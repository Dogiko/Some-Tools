{
 "cells": [
  {
   "cell_type": "code",
   "execution_count": null,
   "metadata": {
    "collapsed": true
   },
   "outputs": [],
   "source": [
    "import numpy as np\n",
    "\n",
    "class DimensionReduction():\n",
    "    def __init__(self, data):\n",
    "        self.raw = data.astype(np.float64)\n",
    "        self.center_data = self.raw - self.raw.mean(axis=0)\n",
    "        gram = np.dot(self.center_data.t, self.center_data)\n",
    "        self.variance, self.components = np.linalg.eigh(gram)\n",
    "        self.variance /= len(data)\n",
    "    \n",
    "    def Reduce(self, dimension=0, normalize=False, epsilon = 0.000000001):\n",
    "        if epsilon <= 0:\n",
    "            epsilon = 0\n",
    "            print(\"WARNING : epsilon < 0, set to 0 \")\n",
    "        \n",
    "        if dimension <= 0:\n",
    "            dimension = self.raw.shape[1]\n",
    "        \n",
    "        output = np.dot(self.center_data, self.components[:, -dimension:])\n",
    "        if normalize:\n",
    "            output /= np.sqrt(self.variance[-dimension:] + epsilon)\n",
    "        \n",
    "        return output"
   ]
  }
 ],
 "metadata": {
  "kernelspec": {
   "display_name": "Python 3",
   "language": "python",
   "name": "python3"
  },
  "language_info": {
   "codemirror_mode": {
    "name": "ipython",
    "version": 3
   },
   "file_extension": ".py",
   "mimetype": "text/x-python",
   "name": "python",
   "nbconvert_exporter": "python",
   "pygments_lexer": "ipython3",
   "version": "3.6.4"
  }
 },
 "nbformat": 4,
 "nbformat_minor": 2
}
