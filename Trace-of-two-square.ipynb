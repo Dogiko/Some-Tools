{
 "cells": [
  {
   "cell_type": "markdown",
   "metadata": {},
   "source": [
    "Given 2 square matrix $A, B$\n",
    "\n",
    "trace of $AB$ $ = tr(AB) =$ sum of $(A \\circ B)$\n",
    "\n",
    "where $\\circ$ is element-wise product\n",
    "\n",
    "$AB$ is slower because it compute all non-diagram element that is unnecessary when finding $tr(AB)$ "
   ]
  },
  {
   "cell_type": "code",
   "execution_count": 1,
   "metadata": {
    "collapsed": true
   },
   "outputs": [],
   "source": [
    "import numpy as np\n",
    "import torch\n",
    "import time"
   ]
  },
  {
   "cell_type": "code",
   "execution_count": 2,
   "metadata": {
    "collapsed": true
   },
   "outputs": [],
   "source": [
    "def NpTr2S(A, B):\n",
    "    return (A*B.T).sum()\n",
    "\n",
    "def TorchTr2S(A, B):\n",
    "    return (A*B.t()).sum()"
   ]
  },
  {
   "cell_type": "code",
   "execution_count": 3,
   "metadata": {},
   "outputs": [
    {
     "name": "stdout",
     "output_type": "stream",
     "text": [
      "1576.7007, 1.2647738456726074\n",
      "1576.7007, 1.2203540802001953\n",
      "1576.7035, 0.33798670768737793\n"
     ]
    }
   ],
   "source": [
    "A = np.random.normal(0, 1, (5000, 5000)).astype(np.float32)\n",
    "B = np.random.normal(0, 1, (5000, 5000)).astype(np.float32)\n",
    "\n",
    "start = time.time()\n",
    "print(np.diag(np.dot(A,B)).sum(), end=\", \")\n",
    "print(time.time() - start)\n",
    "\n",
    "start = time.time()\n",
    "print(np.trace(np.dot(A,B)), end=\", \")\n",
    "print(time.time() - start)\n",
    "\n",
    "start = time.time()\n",
    "print(NpTr2S(A, B), end=\", \")\n",
    "print(time.time() - start)"
   ]
  },
  {
   "cell_type": "code",
   "execution_count": 4,
   "metadata": {},
   "outputs": [
    {
     "name": "stdout",
     "output_type": "stream",
     "text": [
      "1576.7017899704574, 2.578411817550659\n",
      "1576.7017899704574, 2.4070417881011963\n",
      "1576.701789970456, 0.44674205780029297\n"
     ]
    }
   ],
   "source": [
    "A = A.astype(np.float64)\n",
    "B = B.astype(np.float64)\n",
    "\n",
    "start = time.time()\n",
    "print(np.diag(np.dot(A,B)).sum(), end=\", \")\n",
    "print(time.time() - start)\n",
    "\n",
    "start = time.time()\n",
    "print(np.trace(np.dot(A,B)), end=\", \")\n",
    "print(time.time() - start)\n",
    "\n",
    "start = time.time()\n",
    "print(NpTr2S(A, B), end=\", \")\n",
    "print(time.time() - start)"
   ]
  },
  {
   "cell_type": "code",
   "execution_count": 5,
   "metadata": {},
   "outputs": [
    {
     "name": "stdout",
     "output_type": "stream",
     "text": [
      "tensor(1576.7025), 1.1117980480194092\n",
      "tensor(1576.7015), 1.1355969905853271\n",
      "tensor(1576.7007), 0.3173179626464844\n"
     ]
    }
   ],
   "source": [
    "A = torch.Tensor(A.astype(np.float32))\n",
    "B = torch.Tensor(B.astype(np.float32))\n",
    "\n",
    "start = time.time()\n",
    "print(torch.diag(A.mm(B)).sum(), end=\", \")\n",
    "print(time.time() - start)\n",
    "\n",
    "start = time.time()\n",
    "print(torch.trace(A.mm(B)), end=\", \")\n",
    "print(time.time() - start)\n",
    "\n",
    "start = time.time()\n",
    "print(TorchTr2S(A, B), end=\", \")\n",
    "print(time.time() - start)"
   ]
  },
  {
   "cell_type": "code",
   "execution_count": 6,
   "metadata": {},
   "outputs": [
    {
     "name": "stdout",
     "output_type": "stream",
     "text": [
      "tensor(1576.7018, dtype=torch.float64), 2.519334077835083\n",
      "tensor(1576.7018, dtype=torch.float64), 2.448906183242798\n",
      "tensor(1576.7018, dtype=torch.float64), 0.4453146457672119\n"
     ]
    }
   ],
   "source": [
    "A = A.type(torch.DoubleTensor)\n",
    "B = B.type(torch.DoubleTensor)\n",
    "\n",
    "start = time.time()\n",
    "print(torch.diag(A.mm(B)).sum(), end=\", \")\n",
    "print(time.time() - start)\n",
    "\n",
    "start = time.time()\n",
    "print(torch.trace(A.mm(B)), end=\", \")\n",
    "print(time.time() - start)\n",
    "\n",
    "start = time.time()\n",
    "print(TorchTr2S(A, B), end=\", \")\n",
    "print(time.time() - start)"
   ]
  },
  {
   "cell_type": "code",
   "execution_count": null,
   "metadata": {
    "collapsed": true
   },
   "outputs": [],
   "source": []
  }
 ],
 "metadata": {
  "kernelspec": {
   "display_name": "Python 3",
   "language": "python",
   "name": "python3"
  },
  "language_info": {
   "codemirror_mode": {
    "name": "ipython",
    "version": 3
   },
   "file_extension": ".py",
   "mimetype": "text/x-python",
   "name": "python",
   "nbconvert_exporter": "python",
   "pygments_lexer": "ipython3",
   "version": "3.6.4"
  }
 },
 "nbformat": 4,
 "nbformat_minor": 2
}
