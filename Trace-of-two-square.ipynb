{
 "cells": [
  {
   "cell_type": "markdown",
   "metadata": {},
   "source": [
    "Given 2 square matrix $A, B$\n",
    "\n",
    "$tr(AB) =$ sum of $(A \\circ B)$ = $flat(A) \\bullet flat(B)$\n",
    "\n",
    "where $\\circ$ is element-wise product, $\\bullet$ is inner product and $flat(x)$ is treat $x$ as a vecter\n",
    "\n",
    "$AB$ is slower because it compute all non-diagram element that is unnecessary when finding $tr(AB)$ \n",
    "\n",
    "$flat$ method is quicker than $(A \\circ B)$ in torch at numerical result"
   ]
  },
  {
   "cell_type": "code",
   "execution_count": 80,
   "metadata": {
    "collapsed": true
   },
   "outputs": [],
   "source": [
    "import numpy as np\n",
    "import torch\n",
    "import time"
   ]
  },
  {
   "cell_type": "code",
   "execution_count": 81,
   "metadata": {
    "collapsed": true
   },
   "outputs": [],
   "source": [
    "def NpTr2S(A, B, flat = True):\n",
    "    if flat:\n",
    "        return np.dot(A.T.reshape(-1), B.reshape(-1))\n",
    "    else:\n",
    "        return (A*B.T).sum()\n",
    "\n",
    "def TorchTr2S(A, B, flat = True):\n",
    "    if flat:\n",
    "        return A.view(1,-1).mm(B.t().contiguous().view(-1,1)).view(())\n",
    "    else:\n",
    "        return (A*B.t()).sum()"
   ]
  },
  {
   "cell_type": "code",
   "execution_count": 82,
   "metadata": {},
   "outputs": [
    {
     "name": "stdout",
     "output_type": "stream",
     "text": [
      "3982.4336, 1.0010411739349365\n",
      "3982.4336, 1.055237054824829\n",
      "3982.4277, 0.3329920768737793\n",
      "3982.4775, 0.3156619071960449\n"
     ]
    }
   ],
   "source": [
    "A = np.random.normal(0, 1, (5000, 5000)).astype(np.float32)\n",
    "B = np.random.normal(0, 1, (5000, 5000)).astype(np.float32)\n",
    "\n",
    "start = time.time()\n",
    "print(np.diag(np.dot(A,B)).sum(), end=\", \")\n",
    "print(time.time() - start)\n",
    "\n",
    "start = time.time()\n",
    "print(np.trace(np.dot(A,B)), end=\", \")\n",
    "print(time.time() - start)\n",
    "\n",
    "start = time.time()\n",
    "print(NpTr2S(A, B, False), end=\", \")\n",
    "print(time.time() - start)\n",
    "\n",
    "start = time.time()\n",
    "print(NpTr2S(A, B), end=\", \")\n",
    "print(time.time() - start)"
   ]
  },
  {
   "cell_type": "code",
   "execution_count": 83,
   "metadata": {},
   "outputs": [
    {
     "name": "stdout",
     "output_type": "stream",
     "text": [
      "3982.4341851562767, 2.116687297821045\n",
      "3982.4341851562767, 1.9839439392089844\n",
      "3982.4341851562667, 0.44022393226623535\n",
      "3982.434185156503, 0.3969540596008301\n"
     ]
    }
   ],
   "source": [
    "A = A.astype(np.float64)\n",
    "B = B.astype(np.float64)\n",
    "\n",
    "start = time.time()\n",
    "print(np.diag(np.dot(A,B)).sum(), end=\", \")\n",
    "print(time.time() - start)\n",
    "\n",
    "start = time.time()\n",
    "print(np.trace(np.dot(A,B)), end=\", \")\n",
    "print(time.time() - start)\n",
    "\n",
    "start = time.time()\n",
    "print(NpTr2S(A, B, False), end=\", \")\n",
    "print(time.time() - start)\n",
    "\n",
    "start = time.time()\n",
    "print(NpTr2S(A, B), end=\", \")\n",
    "print(time.time() - start)"
   ]
  },
  {
   "cell_type": "code",
   "execution_count": 84,
   "metadata": {},
   "outputs": [
    {
     "name": "stdout",
     "output_type": "stream",
     "text": [
      "tensor(3982.4358), 0.9481821060180664\n",
      "tensor(3982.4336), 0.9221210479736328\n",
      "tensor(3982.4377), 0.2957921028137207\n",
      "tensor(3982.4360), 0.09590291976928711\n"
     ]
    }
   ],
   "source": [
    "A = torch.Tensor(A.astype(np.float32))\n",
    "B = torch.Tensor(B.astype(np.float32))\n",
    "\n",
    "start = time.time()\n",
    "print(torch.diag(A.mm(B)).sum(), end=\", \")\n",
    "print(time.time() - start)\n",
    "\n",
    "start = time.time()\n",
    "print(torch.trace(A.mm(B)), end=\", \")\n",
    "print(time.time() - start)\n",
    "\n",
    "start = time.time()\n",
    "print(TorchTr2S(A, B, False), end=\", \")\n",
    "print(time.time() - start)\n",
    "\n",
    "start = time.time()\n",
    "print(TorchTr2S(A, B), end=\", \")\n",
    "print(time.time() - start)"
   ]
  },
  {
   "cell_type": "code",
   "execution_count": 85,
   "metadata": {},
   "outputs": [
    {
     "name": "stdout",
     "output_type": "stream",
     "text": [
      "tensor(3982.4342, dtype=torch.float64), 1.986386775970459\n",
      "tensor(3982.4342, dtype=torch.float64), 2.104691982269287\n",
      "tensor(3982.4342, dtype=torch.float64), 0.5125560760498047\n",
      "tensor(3982.4342, dtype=torch.float64), 0.21176981925964355\n"
     ]
    }
   ],
   "source": [
    "A = A.type(torch.DoubleTensor)\n",
    "B = B.type(torch.DoubleTensor)\n",
    "\n",
    "start = time.time()\n",
    "print(torch.diag(A.mm(B)).sum(), end=\", \")\n",
    "print(time.time() - start)\n",
    "\n",
    "start = time.time()\n",
    "print(torch.trace(A.mm(B)), end=\", \")\n",
    "print(time.time() - start)\n",
    "\n",
    "start = time.time()\n",
    "print(TorchTr2S(A, B, False), end=\", \")\n",
    "print(time.time() - start)\n",
    "\n",
    "start = time.time()\n",
    "print(TorchTr2S(A, B), end=\", \")\n",
    "print(time.time() - start)"
   ]
  },
  {
   "cell_type": "code",
   "execution_count": null,
   "metadata": {
    "collapsed": true
   },
   "outputs": [],
   "source": []
  }
 ],
 "metadata": {
  "kernelspec": {
   "display_name": "Python 3",
   "language": "python",
   "name": "python3"
  },
  "language_info": {
   "codemirror_mode": {
    "name": "ipython",
    "version": 3
   },
   "file_extension": ".py",
   "mimetype": "text/x-python",
   "name": "python",
   "nbconvert_exporter": "python",
   "pygments_lexer": "ipython3",
   "version": "3.6.4"
  }
 },
 "nbformat": 4,
 "nbformat_minor": 2
}
