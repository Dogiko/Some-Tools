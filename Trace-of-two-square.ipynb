{
 "cells": [
  {
   "cell_type": "markdown",
   "metadata": {},
   "source": [
    "Given 2 square matrix $A, B$\n",
    "\n",
    "trace of $AB$ $ = tr(AB) =$ sum of $(A \\circ B)$\n",
    "\n",
    "where $\\circ$ is element-wise product\n",
    "\n",
    "$AB$ is slower because it compute all non-diagram element that is unnecessary when finding $tr(AB)$ "
   ]
  },
  {
   "cell_type": "code",
   "execution_count": 8,
   "metadata": {
    "collapsed": true
   },
   "outputs": [],
   "source": [
    "import numpy as np\n",
    "import torch\n",
    "import time"
   ]
  },
  {
   "cell_type": "code",
   "execution_count": 9,
   "metadata": {
    "collapsed": true
   },
   "outputs": [],
   "source": [
    "def NpTr2S(A, B):\n",
    "    return (A*B.T).sum()\n",
    "\n",
    "def TorchTr2S(A, B):\n",
    "    return (A*B.t()).sum()"
   ]
  },
  {
   "cell_type": "code",
   "execution_count": 10,
   "metadata": {},
   "outputs": [
    {
     "name": "stdout",
     "output_type": "stream",
     "text": [
      "-986.8219, 0.008379936218261719\n",
      "-986.82184, 0.002413034439086914\n"
     ]
    }
   ],
   "source": [
    "A = np.random.normal(0, 1, (1000, 1000)).astype(np.float32)\n",
    "B = np.random.normal(0, 1, (1000, 1000)).astype(np.float32)\n",
    "\n",
    "start = time.time()\n",
    "print(np.diag(np.dot(A,B)).sum(), end=\", \")\n",
    "print(time.time() - start)\n",
    "\n",
    "start = time.time()\n",
    "print(NpTr2S(A, B), end=\", \")\n",
    "print(time.time() - start)"
   ]
  },
  {
   "cell_type": "code",
   "execution_count": 11,
   "metadata": {},
   "outputs": [
    {
     "name": "stdout",
     "output_type": "stream",
     "text": [
      "-986.821826018991, 0.02141118049621582\n",
      "-986.8218260189899, 0.005032777786254883\n"
     ]
    }
   ],
   "source": [
    "A = A.astype(np.float64)\n",
    "B = B.astype(np.float64)\n",
    "\n",
    "start = time.time()\n",
    "print(np.diag(np.dot(A,B)).sum(), end=\", \")\n",
    "print(time.time() - start)\n",
    "\n",
    "start = time.time()\n",
    "print(NpTr2S(A, B), end=\", \")\n",
    "print(time.time() - start)"
   ]
  },
  {
   "cell_type": "code",
   "execution_count": 12,
   "metadata": {},
   "outputs": [
    {
     "name": "stdout",
     "output_type": "stream",
     "text": [
      "tensor(-986.8220), 0.013262033462524414\n",
      "tensor(-986.8221), 0.0034589767456054688\n"
     ]
    }
   ],
   "source": [
    "A = torch.Tensor(A.astype(np.float32))\n",
    "B = torch.Tensor(B.astype(np.float32))\n",
    "\n",
    "start = time.time()\n",
    "print(torch.diag(A.mm(B)).sum(), end=\", \")\n",
    "print(time.time() - start)\n",
    "\n",
    "start = time.time()\n",
    "print(TorchTr2S(A, B), end=\", \")\n",
    "print(time.time() - start)"
   ]
  },
  {
   "cell_type": "code",
   "execution_count": 13,
   "metadata": {},
   "outputs": [
    {
     "name": "stdout",
     "output_type": "stream",
     "text": [
      "tensor(-986.8218, dtype=torch.float64), 0.026175975799560547\n",
      "tensor(-986.8218, dtype=torch.float64), 0.006474971771240234\n"
     ]
    }
   ],
   "source": [
    "A = A.type(torch.DoubleTensor)\n",
    "B = B.type(torch.DoubleTensor)\n",
    "\n",
    "start = time.time()\n",
    "print(torch.diag(A.mm(B)).sum(), end=\", \")\n",
    "print(time.time() - start)\n",
    "\n",
    "start = time.time()\n",
    "print(TorchTr2S(A, B), end=\", \")\n",
    "print(time.time() - start)"
   ]
  },
  {
   "cell_type": "code",
   "execution_count": null,
   "metadata": {
    "collapsed": true
   },
   "outputs": [],
   "source": []
  }
 ],
 "metadata": {
  "kernelspec": {
   "display_name": "Python 3",
   "language": "python",
   "name": "python3"
  },
  "language_info": {
   "codemirror_mode": {
    "name": "ipython",
    "version": 3
   },
   "file_extension": ".py",
   "mimetype": "text/x-python",
   "name": "python",
   "nbconvert_exporter": "python",
   "pygments_lexer": "ipython3",
   "version": "3.6.4"
  }
 },
 "nbformat": 4,
 "nbformat_minor": 2
}
