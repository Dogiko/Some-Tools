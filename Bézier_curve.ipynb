{
 "cells": [
  {
   "cell_type": "code",
   "execution_count": 1,
   "metadata": {
    "collapsed": true
   },
   "outputs": [],
   "source": [
    "import numpy as np"
   ]
  },
  {
   "cell_type": "code",
   "execution_count": 78,
   "metadata": {
    "collapsed": true
   },
   "outputs": [],
   "source": [
    "class Bezier():\n",
    "    def __init__(self, sampling = 100, max_order= 10):\n",
    "        self.sampling = sampling\n",
    "        sample = (np.arange(sampling)/(sampling-1)).reshape(-1,1)\n",
    "        sample_complement = 1-sample\n",
    "        self.weights = []\n",
    "        pascal = np.array([1])\n",
    "        for o in range(1, max_order+2):\n",
    "            sample_power = sample**np.arange(o)[::-1]\n",
    "            sample_complement_power = sample_complement**(np.arange(o))\n",
    "            self.weights.append((sample_power*sample_complement_power)*pascal)\n",
    "            pascal=np.concatenate([pascal, np.zeros((1))]) + np.concatenate([np.zeros((1)), pascal])\n",
    "    \n",
    "    def get_curve(self, points):\n",
    "        if len(points.shape)<2:\n",
    "            raise ValueError(\"expect 2 dim array\")\n",
    "        \n",
    "        return np.dot(self.weights[points.shape[0]-1], points)"
   ]
  },
  {
   "cell_type": "code",
   "execution_count": 55,
   "metadata": {},
   "outputs": [],
   "source": [
    "foo = Bezier()"
   ]
  },
  {
   "cell_type": "code",
   "execution_count": 74,
   "metadata": {},
   "outputs": [],
   "source": [
    "points = np.array([[10,10], [10,20], [15, 20], [20,10], [30,10], [30,20]])\n",
    "curve = foo.get_curve(points)"
   ]
  },
  {
   "cell_type": "code",
   "execution_count": 75,
   "metadata": {},
   "outputs": [],
   "source": [
    "import matplotlib.pyplot as plt"
   ]
  },
  {
   "cell_type": "code",
   "execution_count": 77,
   "metadata": {
    "scrolled": true
   },
   "outputs": [
    {
     "data": {
      "image/png": "[encoded data removed]",
      "text/plain": [
       "<matplotlib.figure.Figure at 0x108667ac8>"
      ]
     },
     "metadata": {},
     "output_type": "display_data"
    }
   ],
   "source": [
    "plt.scatter(points[:,0], points[:,1])\n",
    "plt.plot(points[:,0], points[:,1])\n",
    "plt.plot(curve[:,0], curve[:,1])\n",
    "plt.show()"
   ]
  },
  {
   "cell_type": "code",
   "execution_count": 53,
   "metadata": {},
   "outputs": [
    {
     "data": {
      "text/plain": [
       "array([0., 1., 2., 0.])"
      ]
     },
     "execution_count": 53,
     "metadata": {},
     "output_type": "execute_result"
    }
   ],
   "source": []
  },
  {
   "cell_type": "code",
   "execution_count": null,
   "metadata": {
    "collapsed": true
   },
   "outputs": [],
   "source": []
  }
 ],
 "metadata": {
  "kernelspec": {
   "display_name": "Python 3",
   "language": "python",
   "name": "python3"
  },
  "language_info": {
   "codemirror_mode": {
    "name": "ipython",
    "version": 3
   },
   "file_extension": ".py",
   "mimetype": "text/x-python",
   "name": "python",
   "nbconvert_exporter": "python",
   "pygments_lexer": "ipython3",
   "version": "3.6.4"
  }
 },
 "nbformat": 4,
 "nbformat_minor": 2
}
