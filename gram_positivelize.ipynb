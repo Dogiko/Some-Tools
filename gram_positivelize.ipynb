{
 "cells": [
  {
   "cell_type": "markdown",
   "metadata": {},
   "source": [
    "Using while-loop to increasing regularlizer(stability) of the gram matrix until all eigenvalues is postive-definite under numerical method"
   ]
  },
  {
   "cell_type": "markdown",
   "metadata": {},
   "source": [
    "## Numpy version"
   ]
  },
  {
   "cell_type": "code",
   "execution_count": 1,
   "metadata": {
    "collapsed": true
   },
   "outputs": [],
   "source": [
    "import numpy as np\n",
    "\n",
    "def pos_gram(gram, regularlizer = None):\n",
    "    _size = len(gram)\n",
    "    if regularlizer is None:\n",
    "        # the fraction of float32 is 2**(-23)~10**(-7) we start with 10**(-7) times of maximun element\n",
    "        regularlizer = np.abs(gram).max()*0.0000001\n",
    "        if np.abs(gram).max() == 0:\n",
    "            raise ValueError(\"gram error, expect matrix with none-zero element\")\n",
    "    \n",
    "    if regularlizer <= 0:\n",
    "        raise ValueError(\"regularlizer error, expect positive, got %s\" %(regularlizer))\n",
    "    \n",
    "    while True:\n",
    "        lambdas = np.linalg.eigvalsh(gram + np.identity(_size, np.float32)*regularlizer)\n",
    "        if lambdas.min() > 0:\n",
    "            break\n",
    "        \n",
    "        regularlizer *= 2.\n",
    "    \n",
    "    return gram + np.identity(_size, np.float32)*regularlizer"
   ]
  },
  {
   "cell_type": "code",
   "execution_count": 2,
   "metadata": {},
   "outputs": [
    {
     "name": "stdout",
     "output_type": "stream",
     "text": [
      "[[1.0000001 0.       ]\n",
      " [0.        1.0000001]]\n",
      "[[1.0000001 1.       ]\n",
      " [1.        1.0000001]]\n",
      "[[1.000001 1.      ]\n",
      " [1.       1.000001]]\n",
      "[[1.0000001 1.       ]\n",
      " [1.        1.0000001]]\n",
      "[[1.0000001 1.       ]\n",
      " [1.        1.0000001]]\n"
     ]
    }
   ],
   "source": [
    "X = np.identity(2, np.float32)\n",
    "print(pos_gram(X))\n",
    "\n",
    "X = np.ones((2,2), np.float32)\n",
    "print(pos_gram(X))\n",
    "print(pos_gram(X, regularlizer=np.float32(0.000001)))\n",
    "print(pos_gram(X, regularlizer=np.float32(0.00000006)))\n",
    "print(pos_gram(X, regularlizer=np.float32(0.000000000001)))"
   ]
  },
  {
   "cell_type": "markdown",
   "metadata": {},
   "source": [
    "## Torch version"
   ]
  },
  {
   "cell_type": "code",
   "execution_count": 3,
   "metadata": {
    "collapsed": true
   },
   "outputs": [],
   "source": [
    "import torch\n",
    "\n",
    "def pos_gram(gram, regularlizer = None):\n",
    "    _size = len(gram)\n",
    "    \n",
    "    \n",
    "    if regularlizer is None:\n",
    "        # the fraction of float32 is 2**(-23)~10**(-7) we start with 10**(-7) times of maximun element\n",
    "        regularlizer = gram.abs().max()*0.0000001\n",
    "        if gram.abs().max() == 0:\n",
    "            raise ValueError(\"gram error, expect matrix with none-zero element\")\n",
    "    \n",
    "    if regularlizer <= 0:\n",
    "        raise ValueError(\"regularlizer error, expect positive, got %s\" %(regularlizer))\n",
    "    \n",
    "    while True:\n",
    "        lambdas, vectors = torch.symeig(gram + torch.eye(_size)*regularlizer)\n",
    "        if lambdas.min() > 0:\n",
    "            break\n",
    "        \n",
    "        regularlizer *= 2.\n",
    "    \n",
    "    return gram + torch.eye(_size)*regularlizer"
   ]
  },
  {
   "cell_type": "code",
   "execution_count": 4,
   "metadata": {},
   "outputs": [
    {
     "name": "stdout",
     "output_type": "stream",
     "text": [
      "tensor([[1.0000, 0.0000],\n",
      "        [0.0000, 1.0000]])\n",
      "tensor([[1.0000, 1.0000],\n",
      "        [1.0000, 1.0000]])\n",
      "tensor([[1.0000, 1.0000],\n",
      "        [1.0000, 1.0000]])\n",
      "tensor([[1.0000, 1.0000],\n",
      "        [1.0000, 1.0000]])\n",
      "tensor([[1.0000, 1.0000],\n",
      "        [1.0000, 1.0000]])\n"
     ]
    }
   ],
   "source": [
    "X =torch.eye(2)\n",
    "print(pos_gram(X))\n",
    "\n",
    "X = torch.ones((2,2))\n",
    "print(pos_gram(X))\n",
    "print(pos_gram(X, regularlizer=torch.tensor(0.000001)))\n",
    "print(pos_gram(X, regularlizer=torch.tensor(0.00000006)))\n",
    "print(pos_gram(X, regularlizer=torch.tensor(0.000000000001)))"
   ]
  },
  {
   "cell_type": "code",
   "execution_count": null,
   "metadata": {
    "collapsed": true
   },
   "outputs": [],
   "source": []
  }
 ],
 "metadata": {
  "kernelspec": {
   "display_name": "Python 3",
   "language": "python",
   "name": "python3"
  },
  "language_info": {
   "codemirror_mode": {
    "name": "ipython",
    "version": 3
   },
   "file_extension": ".py",
   "mimetype": "text/x-python",
   "name": "python",
   "nbconvert_exporter": "python",
   "pygments_lexer": "ipython3",
   "version": "3.6.4"
  }
 },
 "nbformat": 4,
 "nbformat_minor": 2
}
