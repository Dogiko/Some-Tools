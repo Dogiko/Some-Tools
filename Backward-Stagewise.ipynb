{
 "cells": [
  {
   "cell_type": "code",
   "execution_count": 2,
   "metadata": {
    "collapsed": true
   },
   "outputs": [],
   "source": [
    "import numpy as np\n",
    "import matplotlib.pyplot as plt"
   ]
  },
  {
   "cell_type": "code",
   "execution_count": null,
   "metadata": {
    "collapsed": true
   },
   "outputs": [],
   "source": []
  },
  {
   "cell_type": "code",
   "execution_count": 84,
   "metadata": {},
   "outputs": [],
   "source": [
    "inputs = np.random.normal(0, 1, (10000,10))\n",
    "inputs[:,9:] = np.dot(inputs[:,:9], np.random.normal(0, 1, (9,1)))\n",
    "linear = np.random.normal(0, 1, (10,5))\n",
    "outputs = np.dot(inputs, linear)"
   ]
  },
  {
   "cell_type": "code",
   "execution_count": 87,
   "metadata": {},
   "outputs": [
    {
     "data": {
      "text/plain": [
       "(array([[ 0.95377465,  0.06344722, -0.09493914,  0.00535794,  0.02053871,\n",
       "          0.04918735,  0.05090346, -0.04219769,  0.14351202,  0.05667562],\n",
       "        [ 0.06344722,  0.91291467,  0.13030999, -0.00735411, -0.02819068,\n",
       "         -0.06751276, -0.06986823,  0.05791901, -0.19697934, -0.07779088],\n",
       "        [-0.09493914,  0.13030999,  0.80501088,  0.01100431,  0.04218307,\n",
       "          0.1010226 ,  0.1045472 , -0.08666701,  0.29474971,  0.11640225],\n",
       "        [ 0.00535794, -0.00735411,  0.01100431,  0.99937897, -0.00238062,\n",
       "         -0.00570126, -0.00590017,  0.0048911 , -0.01663435, -0.00656922],\n",
       "        [ 0.02053871, -0.02819068,  0.04218307, -0.00238062,  0.9908743 ,\n",
       "         -0.02185478, -0.02261727,  0.01874915, -0.06376483, -0.02518194],\n",
       "        [ 0.04918735, -0.06751276,  0.1010226 , -0.00570126, -0.02185478,\n",
       "          0.94766084, -0.05416523,  0.04490162, -0.15270791, -0.06030725],\n",
       "        [ 0.05090346, -0.06986823,  0.1045472 , -0.00590017, -0.02261727,\n",
       "         -0.05416523,  0.94394499,  0.0464682 , -0.15803577, -0.06241132],\n",
       "        [-0.04219769,  0.05791901, -0.08666701,  0.0048911 ,  0.01874915,\n",
       "          0.04490162,  0.0464682 ,  0.96147903,  0.13100769,  0.05173742],\n",
       "        [ 0.14351202, -0.19697934,  0.29474971, -0.01663435, -0.06376483,\n",
       "         -0.15270791, -0.15803577,  0.13100769,  0.55445008, -0.17595611],\n",
       "        [ 0.05667562, -0.07779088,  0.11640225, -0.00656922, -0.02518194,\n",
       "         -0.06030725, -0.06241132,  0.05173742, -0.17595611,  0.9305116 ]]),\n",
       " array([], dtype=float64),\n",
       " 9,\n",
       " array([3.76852177e+02, 1.02111646e+02, 1.01200431e+02, 1.00904186e+02,\n",
       "        1.00440914e+02, 9.91717752e+01, 9.87949273e+01, 9.82328600e+01,\n",
       "        9.73886619e+01, 1.83981718e-13]))"
      ]
     },
     "execution_count": 87,
     "metadata": {},
     "output_type": "execute_result"
    }
   ],
   "source": [
    "np.linalg.lstsq(inputs, inputs, rcond=0.001)"
   ]
  },
  {
   "cell_type": "code",
   "execution_count": null,
   "metadata": {
    "collapsed": true
   },
   "outputs": [],
   "source": []
  }
 ],
 "metadata": {
  "kernelspec": {
   "display_name": "Python 3",
   "language": "python",
   "name": "python3"
  },
  "language_info": {
   "codemirror_mode": {
    "name": "ipython",
    "version": 3
   },
   "file_extension": ".py",
   "mimetype": "text/x-python",
   "name": "python",
   "nbconvert_exporter": "python",
   "pygments_lexer": "ipython3",
   "version": "3.6.4"
  }
 },
 "nbformat": 4,
 "nbformat_minor": 2
}
