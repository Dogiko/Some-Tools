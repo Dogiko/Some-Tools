{
 "cells": [
  {
   "cell_type": "code",
   "execution_count": 4,
   "metadata": {},
   "outputs": [],
   "source": [
    "import numpy as np\n",
    "\n",
    "class IncrementalAverage():\n",
    "    def __init__(self, ratio, initial_value=0.):\n",
    "        self.value = initial_value\n",
    "        self.ratio = ratio\n",
    "    \n",
    "    def iterate(self, value):\n",
    "        self.value *= 1-self.ratio\n",
    "        self.value += self.ratio*value\n",
    "\n",
    "class IncrementalStatistic():\n",
    "    def __init__(self, ratio, initial_avg = 0., initial_sqs = 0.):\n",
    "        self.avg = IncrementalAverage(ratio, initial_avg)\n",
    "        self.avg_sqs = IncrementalAverage(ratio, initial_sqs)\n",
    "    \n",
    "    def iterate(self, value):\n",
    "        self.avg.iterate(value)\n",
    "        self.avg_sqs.iterate(np.square(value))\n",
    "    \n",
    "    def std(self):\n",
    "        self.std = np.sqrt(self.avg_sqs.value - np.square(self.avg.value)) + 0.0001\n",
    "        return self.std"
   ]
  },
  {
   "cell_type": "code",
   "execution_count": null,
   "metadata": {
    "collapsed": true
   },
   "outputs": [],
   "source": []
  }
 ],
 "metadata": {
  "kernelspec": {
   "display_name": "Python 3",
   "language": "python",
   "name": "python3"
  },
  "language_info": {
   "codemirror_mode": {
    "name": "ipython",
    "version": 3
   },
   "file_extension": ".py",
   "mimetype": "text/x-python",
   "name": "python",
   "nbconvert_exporter": "python",
   "pygments_lexer": "ipython3",
   "version": "3.6.1"
  }
 },
 "nbformat": 4,
 "nbformat_minor": 2
}
