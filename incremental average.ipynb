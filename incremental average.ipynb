{
 "cells": [
  {
   "cell_type": "markdown",
   "metadata": {},
   "source": [
    "# Incremental average\n",
    "\n",
    "Incremental average\n",
    "\n",
    "$$s_{n}=\\alpha * s_{n-1} + (1-\\alpha)*x_{n}$$\n",
    "\n",
    "for $x_{n}$ float"
   ]
  },
  {
   "cell_type": "code",
   "execution_count": 1,
   "metadata": {},
   "outputs": [],
   "source": [
    "import numpy as np\n",
    "\n",
    "class IncrementalAverage():\n",
    "    def __init__(self, ratio: float=0.1, eps: float=1e-9):\n",
    "        assert isinstance(ratio, float) and 0.<ratio<=1., 'ratio error, expect float between (0, 1]'\n",
    "        assert isinstance(eps, float) and 0.<eps<=1., 'eps error, expect float between (0, 1]'\n",
    "        self._ratio = ratio\n",
    "        self._eps = eps\n",
    "        self.reset()\n",
    "    \n",
    "    def reset(self):\n",
    "        self._acc = 0.\n",
    "        self._divisor = self._eps\n",
    "\n",
    "    @property\n",
    "    def value(self):\n",
    "        return self._acc/(self._divisor + self._eps)\n",
    "    \n",
    "    def iterate(self, value: float):\n",
    "        assert isinstance(value, float), 'value error, expect float, got {}'.format(type(value))\n",
    "        \n",
    "        self._acc *= 1-self._ratio\n",
    "        self._acc += self._ratio*value\n",
    "        \n",
    "        self._divisor *= 1-self._ratio\n",
    "        self._divisor += self._ratio\n",
    "        \n",
    "        return self.value\n",
    "\n",
    "class IncrementalStatistic():\n",
    "    def __init__(self, ratio: float=0.1, eps: float=1e-9):\n",
    "        assert isinstance(ratio, float) and 0.<ratio<=1., 'ratio error, expect float between (0, 1]'\n",
    "        assert isinstance(eps, float) and 0.<eps<=1., 'eps error, expect float between (0, 1]'\n",
    "        self._avg = IncrementalAverage(ratio, eps)\n",
    "        self._avg_squ = IncrementalAverage(ratio, eps)\n",
    "        self._avg_cub = IncrementalAverage(ratio, eps)\n",
    "        self._eps = eps\n",
    "    \n",
    "    def reset(self):\n",
    "        self._avg.reset()\n",
    "        self._avg_squ.reset()\n",
    "        self._avg_cub.reset()\n",
    "    \n",
    "    def iterate(self, value: float):\n",
    "        assert isinstance(value, float), 'value error, expect float, got {}'.format(type(value))\n",
    "        self._avg.iterate(value)\n",
    "        self._avg_squ.iterate(value**2)\n",
    "        self._avg_cub.iterate(value**3)\n",
    "    \n",
    "    @property\n",
    "    def value(self):\n",
    "        return self._avg.value\n",
    "    \n",
    "    @property\n",
    "    def std(self):\n",
    "        return np.sqrt(self._avg_squ.value - self._avg.value**2 + self._eps)\n",
    "    \n",
    "    @property\n",
    "    def skew(self):\n",
    "        return (self._avg_cub.value - 3*self._avg_squ.value*self._avg.value + 2*self._avg.value**3)/self.std**3\n",
    "    \n",
    "    def array_ana(self, values: '1-d numpy array', works: '1-d numpy array or None'=None, reset: bool=True):\n",
    "        \"\"\"\n",
    "        if not works[i], the i_th value in values will not be iterate, but still compute normalized value\n",
    "        \"\"\"\n",
    "        assert isinstance(values, np.ndarray), 'values error, expect np.ndarray, got {}'.format(type(values))\n",
    "        assert len(values.shape) == 1, 'dim error, expect 1, got {}'.format(len(values.shape))\n",
    "        if works == None:\n",
    "            works = np.ones((len(values)))\n",
    "        \n",
    "        assert isinstance(works, np.ndarray), 'works error, expect np.ndarray, got {}'.format(type(works))\n",
    "        assert len(works.shape) == 1, 'dim error, expect 1, got {}'.format(len(works.shape))\n",
    "        \n",
    "        assert isinstance(reset, bool), 'reset error, expect bool got {}'.format(type(reset))\n",
    "        \n",
    "        if reset:\n",
    "            self.reset()\n",
    "        \n",
    "        result = {}\n",
    "        result['avg'] = np.zeros((len(values)))\n",
    "        result['std'] = np.zeros((len(values)))\n",
    "        result['skew'] = np.zeros((len(values)))\n",
    "        \n",
    "        for i in range(len(values)):\n",
    "            if works[i]:\n",
    "                self.iterate(values[i])\n",
    "            \n",
    "            result['avg'][i] = self.value\n",
    "            result['std'][i] = self.std\n",
    "            result['skew'][i] = self.skew\n",
    "        \n",
    "        result['normalized'] = (values - result['avg'])/(result['std'] + self._eps) \n",
    "        \n",
    "        return result"
   ]
  },
  {
   "cell_type": "code",
   "execution_count": 2,
   "metadata": {},
   "outputs": [],
   "source": [
    "foo = IncrementalStatistic(ratio=0.01)\n",
    "values = np.zeros((200))\n",
    "works = np.ones((200), dtype=bool)\n",
    "for i in range(200):\n",
    "    if (i%2) == 1:\n",
    "        values[i] = i\n",
    "    elif (i%10) == 0:\n",
    "        values[i] = i*(-1.8)\n",
    "        works[i] = False\n",
    "    else:\n",
    "        values[i] = i*(-0.8)\n"
   ]
  },
  {
   "cell_type": "code",
   "execution_count": 4,
   "metadata": {},
   "outputs": [
    {
     "data": {
      "text/plain": [
       "[<matplotlib.lines.Line2D at 0x11923ae10>]"
      ]
     },
     "execution_count": 4,
     "metadata": {},
     "output_type": "execute_result"
    },
    {
     "data": {
      "image/png": "[encoded data removed]",
      "text/plain": [
       "<Figure size 432x288 with 1 Axes>"
      ]
     },
     "metadata": {
      "needs_background": "light"
     },
     "output_type": "display_data"
    }
   ],
   "source": [
    "import matplotlib.pyplot as plt\n",
    "\n",
    "result = foo.array_ana(values)\n",
    "plt.plot(result['skew'])"
   ]
  },
  {
   "cell_type": "code",
   "execution_count": null,
   "metadata": {},
   "outputs": [],
   "source": []
  }
 ],
 "metadata": {
  "kernelspec": {
   "display_name": "Python 3",
   "language": "python",
   "name": "python3"
  },
  "language_info": {
   "codemirror_mode": {
    "name": "ipython",
    "version": 3
   },
   "file_extension": ".py",
   "mimetype": "text/x-python",
   "name": "python",
   "nbconvert_exporter": "python",
   "pygments_lexer": "ipython3",
   "version": "3.7.2"
  }
 },
 "nbformat": 4,
 "nbformat_minor": 2
}
