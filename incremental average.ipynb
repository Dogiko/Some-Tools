{
 "cells": [
  {
   "cell_type": "markdown",
   "metadata": {},
   "source": [
    "# Incremental average\n",
    "\n",
    "Incremental average\n",
    "\n",
    "$$s_{n}=\\alpha * s_{n-1} + (1-\\alpha)*x_{n}$$\n",
    "\n",
    "for $x_{n}$ numpy array"
   ]
  },
  {
   "cell_type": "code",
   "execution_count": 11,
   "metadata": {},
   "outputs": [],
   "source": [
    "import numpy as np\n",
    "\n",
    "class IncrementalAverage():\n",
    "    def __init__(self, ratio: float=0.1, eps: float=1e-9):\n",
    "        assert isinstance(ratio, float) and 0.<ratio<=1., 'ratio error, expect float between (0, 1]'\n",
    "        assert isinstance(eps, float) and 0.<eps<=1., 'eps error, expect float between (0, 1]'\n",
    "        self._ratio = ratio\n",
    "        self._eps = eps\n",
    "        self.reset()\n",
    "    \n",
    "    def reset(self):\n",
    "        self._acc = 0.\n",
    "        self._divisor = self._eps\n",
    "\n",
    "    @property\n",
    "    def value(self):\n",
    "        return self._acc/(self._divisor + self._eps)\n",
    "    \n",
    "    def iterate(self, value: float):\n",
    "        assert isinstance(value, float), 'value error, expect float, got {}'.format(type(value))\n",
    "        \n",
    "        self._acc *= 1-self._ratio\n",
    "        self._acc += self._ratio*value\n",
    "        \n",
    "        self._divisor *= 1-self._ratio\n",
    "        self._divisor += self._ratio\n",
    "        \n",
    "        return self.value\n",
    "\n",
    "class IncrementalStatistic():\n",
    "    def __init__(self, ratio: float=0.1, eps: float=1e-9):\n",
    "        assert isinstance(ratio, float) and 0.<ratio<=1., 'ratio error, expect float between (0, 1]'\n",
    "        assert isinstance(eps, float) and 0.<eps<=1., 'eps error, expect float between (0, 1]'\n",
    "        self._avg = IncrementalAverage(ratio, eps)\n",
    "        self._avg_squ = IncrementalAverage(ratio, eps)\n",
    "        self._avg_cub = IncrementalAverage(ratio, eps)\n",
    "        self._eps = eps\n",
    "    \n",
    "    def reset(self):\n",
    "        self._avg.reset()\n",
    "        self._avg_squ.reset()\n",
    "        self._avg_cub.reset()\n",
    "    \n",
    "    def iterate(self, value: float):\n",
    "        assert isinstance(value, float), 'value error, expect float, got {}'.format(type(value))\n",
    "        self._avg.iterate(value)\n",
    "        self._avg_squ.iterate(value**2)\n",
    "        self._avg_cub.iterate(value**3)\n",
    "    \n",
    "    @property\n",
    "    def value(self):\n",
    "        return self._avg.value\n",
    "    \n",
    "    @property\n",
    "    def std(self):\n",
    "        return np.sqrt(self._avg_squ.value - self._avg.value**2)+self._eps\n",
    "    \n",
    "    @property\n",
    "    def skew(self):\n",
    "        return (self._avg_cub.value - 3*self._avg_squ.value*self._avg.value + 2*self._avg.value**3)/self.std**3"
   ]
  },
  {
   "cell_type": "code",
   "execution_count": 12,
   "metadata": {},
   "outputs": [
    {
     "name": "stdout",
     "output_type": "stream",
     "text": [
      "2.0009985428688806 1.0056237030764863 0.039035038169475546\n"
     ]
    }
   ],
   "source": [
    "foo = IncrementalStatistic(ratio=0.001)\n",
    "for i in range(99):\n",
    "    if (i % 2) ==0:\n",
    "        foo.iterate(1.)\n",
    "    else:\n",
    "        foo.iterate(2.98)\n",
    "\n",
    "foo.iterate(3.98)\n",
    "print(foo._avg.value, foo.std, foo.skew)"
   ]
  },
  {
   "cell_type": "code",
   "execution_count": 9,
   "metadata": {},
   "outputs": [
    {
     "data": {
      "text/plain": [
       "0.039035038169475546"
      ]
     },
     "execution_count": 9,
     "metadata": {},
     "output_type": "execute_result"
    }
   ],
   "source": [
    "foo.skew"
   ]
  },
  {
   "cell_type": "code",
   "execution_count": null,
   "metadata": {},
   "outputs": [],
   "source": []
  }
 ],
 "metadata": {
  "kernelspec": {
   "display_name": "Python 3",
   "language": "python",
   "name": "python3"
  },
  "language_info": {
   "codemirror_mode": {
    "name": "ipython",
    "version": 3
   },
   "file_extension": ".py",
   "mimetype": "text/x-python",
   "name": "python",
   "nbconvert_exporter": "python",
   "pygments_lexer": "ipython3",
   "version": "3.7.2"
  }
 },
 "nbformat": 4,
 "nbformat_minor": 2
}
