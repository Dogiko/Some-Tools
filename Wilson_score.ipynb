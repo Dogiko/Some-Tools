{
 "cells": [
  {
   "cell_type": "markdown",
   "metadata": {},
   "source": [
    "# Wilson score\n",
    "\n",
    "Wilson score is a method to estimate confidence interval of binomial proportions by sampling result. (success–failure experiments)\n",
    "\n",
    "Given $n, n_S, cl$ as following:\n",
    "\n",
    "$n$ : sample\n",
    "\n",
    "$n_S$ : number of success\n",
    "\n",
    "$cl$ : confidence interval\n",
    "\n",
    "and set\n",
    "\n",
    "$n_F = n - n_S$, number of failure\n",
    "\n",
    "$z$ : percent point of standard normal distribution for $cl$ \n",
    "\n",
    "The estimate to success proportion of population $p$ is \n",
    "\n",
    "$$p < \\frac{n_S + \\frac{z^2}{n} + z\\sqrt{\\frac{n_{S}n_{F}}{n} + \\frac{z^2}{n}}}{n+z^2}$$\n",
    "\n",
    "\n",
    "It works even for a small number sample or an extreme probability.\n",
    "\n"
   ]
  },
  {
   "cell_type": "code",
   "execution_count": 1,
   "metadata": {
    "collapsed": true
   },
   "outputs": [],
   "source": [
    "import scipy.stats\n",
    "import numpy as np\n",
    "import matplotlib.pyplot as plt"
   ]
  },
  {
   "cell_type": "code",
   "execution_count": 2,
   "metadata": {
    "collapsed": true
   },
   "outputs": [],
   "source": [
    "def wilson_score(sample, hit, cl):\n",
    "    if (cl >= 1) or (cl <= 0):\n",
    "            raise ValueError(\"cl error, expect 0~1, got {}\".format(cl))\n",
    "    \n",
    "    z = scipy.stats.norm.ppf(cl)\n",
    "    z2 = z**2\n",
    "    output = (hit + (z2/2))/(sample + z2)\n",
    "    output += (z/(sample+z2))*np.sqrt((hit*(sample - hit)/sample) + (z2/4))\n",
    "    return output\n",
    "\n",
    "def find_suitable_sample(sample_failure, population, failure_upper_bound, confidence_level):\n",
    "    output = int(population/failure_upper_bound)\n",
    "    while wilson_score(output, sample_failure, confidence_level) >= failure_upper_bound/population:\n",
    "        output += 1\n",
    "    \n",
    "    return output"
   ]
  },
  {
   "cell_type": "code",
   "execution_count": 13,
   "metadata": {},
   "outputs": [
    {
     "data": {
      "image/png": "[encoded data removed]",
      "text/plain": [
       "<matplotlib.figure.Figure at 0x11472afd0>"
      ]
     },
     "metadata": {},
     "output_type": "display_data"
    }
   ],
   "source": [
    "p = np.zeros(100)\n",
    "for t in range(100):\n",
    "    p[t] = wilson_score(t+1, 0, 0.99)\n",
    "\n",
    "\n",
    "plt.plot(np.arange(100)+1, p)\n",
    "plt.show()"
   ]
  },
  {
   "cell_type": "code",
   "execution_count": 15,
   "metadata": {},
   "outputs": [
    {
     "data": {
      "image/png": "[encoded data removed]",
      "text/plain": [
       "<matplotlib.figure.Figure at 0x115512c50>"
      ]
     },
     "metadata": {},
     "output_type": "display_data"
    }
   ],
   "source": [
    "p = np.zeros(100)\n",
    "for t in range(100):\n",
    "    p[t] = wilson_score(t+1, 1, 0.99)\n",
    "\n",
    "# p = np.log(p)\n",
    "\n",
    "plt.plot(np.arange(100)+1, p)\n",
    "plt.show()"
   ]
  },
  {
   "cell_type": "code",
   "execution_count": 16,
   "metadata": {},
   "outputs": [
    {
     "data": {
      "text/plain": [
       "268"
      ]
     },
     "execution_count": 16,
     "metadata": {},
     "output_type": "execute_result"
    }
   ],
   "source": [
    "find_suitable_sample(0, 50000, 500, 0.95)"
   ]
  },
  {
   "cell_type": "code",
   "execution_count": null,
   "metadata": {
    "collapsed": true
   },
   "outputs": [],
   "source": []
  }
 ],
 "metadata": {
  "kernelspec": {
   "display_name": "Python 3",
   "language": "python",
   "name": "python3"
  },
  "language_info": {
   "codemirror_mode": {
    "name": "ipython",
    "version": 3
   },
   "file_extension": ".py",
   "mimetype": "text/x-python",
   "name": "python",
   "nbconvert_exporter": "python",
   "pygments_lexer": "ipython3",
   "version": "3.6.4"
  }
 },
 "nbformat": 4,
 "nbformat_minor": 2
}
